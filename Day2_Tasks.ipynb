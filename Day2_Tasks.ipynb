{
 "cells": [
  {
   "cell_type": "markdown",
   "id": "8670c8f6",
   "metadata": {},
   "source": [
    "# Task 1"
   ]
  },
  {
   "cell_type": "code",
   "execution_count": 2,
   "id": "c82abc00",
   "metadata": {},
   "outputs": [],
   "source": [
    "# Generating random numbers using NumPy"
   ]
  },
  {
   "cell_type": "code",
   "execution_count": 7,
   "id": "e9cf3481",
   "metadata": {},
   "outputs": [],
   "source": [
    "import numpy as np\n",
    "from numpy import random"
   ]
  },
  {
   "cell_type": "code",
   "execution_count": 9,
   "id": "c0e85b80",
   "metadata": {},
   "outputs": [
    {
     "name": "stdout",
     "output_type": "stream",
     "text": [
      "20\n"
     ]
    }
   ],
   "source": [
    "random_number=random.randint(50)\n",
    "print(random_number)"
   ]
  },
  {
   "cell_type": "markdown",
   "id": "513ce571",
   "metadata": {},
   "source": [
    "# Task 2"
   ]
  },
  {
   "cell_type": "code",
   "execution_count": 10,
   "id": "5a07f58a",
   "metadata": {},
   "outputs": [],
   "source": [
    "# Generate NumPy array and slicing array"
   ]
  },
  {
   "cell_type": "code",
   "execution_count": 11,
   "id": "857374bb",
   "metadata": {},
   "outputs": [],
   "source": [
    "import numpy as np"
   ]
  },
  {
   "cell_type": "code",
   "execution_count": 12,
   "id": "35e66384",
   "metadata": {},
   "outputs": [
    {
     "name": "stdout",
     "output_type": "stream",
     "text": [
      "[1 2 3 4 5 6]\n"
     ]
    }
   ],
   "source": [
    "original_arr=np.array([1,2,3,4,5,6])\n",
    "print(original_arr)"
   ]
  },
  {
   "cell_type": "code",
   "execution_count": 13,
   "id": "6723103c",
   "metadata": {},
   "outputs": [
    {
     "name": "stdout",
     "output_type": "stream",
     "text": [
      "[2 3 4]\n"
     ]
    }
   ],
   "source": [
    "sliced_arr=original_arr[1:4]\n",
    "print(sliced_arr)"
   ]
  },
  {
   "cell_type": "markdown",
   "id": "6022ae6e",
   "metadata": {},
   "source": [
    "# Task 3"
   ]
  },
  {
   "cell_type": "code",
   "execution_count": 14,
   "id": "e923560f",
   "metadata": {},
   "outputs": [],
   "source": [
    "# Concatenating 2 NumPy arrays"
   ]
  },
  {
   "cell_type": "code",
   "execution_count": 15,
   "id": "0dc92011",
   "metadata": {},
   "outputs": [
    {
     "name": "stdout",
     "output_type": "stream",
     "text": [
      "[1 2 3 4 5 6]\n"
     ]
    }
   ],
   "source": [
    "arr1=np.array([1,2,3])\n",
    "arr2=np.array([4,5,6])\n",
    "concatenate_array=np.concatenate((arr1,arr2))\n",
    "print(concatenate_array)"
   ]
  },
  {
   "cell_type": "markdown",
   "id": "0c2fb5b9",
   "metadata": {},
   "source": [
    "# Task 4"
   ]
  },
  {
   "cell_type": "code",
   "execution_count": 16,
   "id": "9df047b8",
   "metadata": {},
   "outputs": [],
   "source": [
    "# Sort NumPy array"
   ]
  },
  {
   "cell_type": "code",
   "execution_count": 18,
   "id": "9709737b",
   "metadata": {},
   "outputs": [
    {
     "name": "stdout",
     "output_type": "stream",
     "text": [
      "[1 2 3 4 5 5 7 8 9]\n"
     ]
    }
   ],
   "source": [
    "arr1=np.array([3,4,1,2,5,7,8,5,9])\n",
    "sorted_array=np.sort(arr1)\n",
    "print(sorted_array)"
   ]
  },
  {
   "cell_type": "code",
   "execution_count": null,
   "id": "d1eccb47",
   "metadata": {},
   "outputs": [],
   "source": []
  }
 ],
 "metadata": {
  "kernelspec": {
   "display_name": "Python 3 (ipykernel)",
   "language": "python",
   "name": "python3"
  },
  "language_info": {
   "codemirror_mode": {
    "name": "ipython",
    "version": 3
   },
   "file_extension": ".py",
   "mimetype": "text/x-python",
   "name": "python",
   "nbconvert_exporter": "python",
   "pygments_lexer": "ipython3",
   "version": "3.11.3"
  }
 },
 "nbformat": 4,
 "nbformat_minor": 5
}

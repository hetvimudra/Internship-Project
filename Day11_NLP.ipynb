{
 "cells": [
  {
   "cell_type": "code",
   "execution_count": 1,
   "id": "ac7d3647",
   "metadata": {},
   "outputs": [],
   "source": [
    "import pandas as pd\n",
    "import nltk"
   ]
  },
  {
   "cell_type": "code",
   "execution_count": 10,
   "id": "0d904560",
   "metadata": {},
   "outputs": [],
   "source": [
    "data='''Cows are considered to be a sacred animal in the Hindu religion. The ardent followers of religion worship this animal like a Goddess. A cow has been honored with the status of a mother in Hinduism. This is why people refer to it as ‘Gau Mata’ which translates to Mother Cow.\n",
    "\n",
    "Many followers of religion consider it a sin to kill cows. Nowadays, India has a lot of organizations with the sole purpose of protecting cows. They work to help cows from any danger. They do not tolerate any kind of harm to cows.\n",
    "\n",
    "The government is also taking a lot of measures to protect cows from any injustice. People are coming forward in alliance to safeguard them.'''"
   ]
  },
  {
   "cell_type": "code",
   "execution_count": 11,
   "id": "9f5d58f1",
   "metadata": {},
   "outputs": [
    {
     "data": {
      "text/plain": [
       "'Cows are considered to be a sacred animal in the Hindu religion. The ardent followers of religion worship this animal like a Goddess. A cow has been honored with the status of a mother in Hinduism. This is why people refer to it as ‘Gau Mata’ which translates to Mother Cow.\\n\\nMany followers of religion consider it a sin to kill cows. Nowadays, India has a lot of organizations with the sole purpose of protecting cows. They work to help cows from any danger. They do not tolerate any kind of harm to cows.\\n\\nThe government is also taking a lot of measures to protect cows from any injustice. People are coming forward in alliance to safeguard them.'"
      ]
     },
     "execution_count": 11,
     "metadata": {},
     "output_type": "execute_result"
    }
   ],
   "source": [
    "data"
   ]
  },
  {
   "cell_type": "code",
   "execution_count": 12,
   "id": "ab1f60f1",
   "metadata": {},
   "outputs": [],
   "source": [
    "from nltk.tokenize import blankline_tokenize"
   ]
  },
  {
   "cell_type": "code",
   "execution_count": 13,
   "id": "7a8c4eca",
   "metadata": {},
   "outputs": [],
   "source": [
    "b=blankline_tokenize(data)"
   ]
  },
  {
   "cell_type": "code",
   "execution_count": 14,
   "id": "1a2e508e",
   "metadata": {},
   "outputs": [
    {
     "data": {
      "text/plain": [
       "['Cows are considered to be a sacred animal in the Hindu religion. The ardent followers of religion worship this animal like a Goddess. A cow has been honored with the status of a mother in Hinduism. This is why people refer to it as ‘Gau Mata’ which translates to Mother Cow.',\n",
       " 'Many followers of religion consider it a sin to kill cows. Nowadays, India has a lot of organizations with the sole purpose of protecting cows. They work to help cows from any danger. They do not tolerate any kind of harm to cows.',\n",
       " 'The government is also taking a lot of measures to protect cows from any injustice. People are coming forward in alliance to safeguard them.']"
      ]
     },
     "execution_count": 14,
     "metadata": {},
     "output_type": "execute_result"
    }
   ],
   "source": [
    "b"
   ]
  },
  {
   "cell_type": "code",
   "execution_count": 15,
   "id": "d918aca7",
   "metadata": {},
   "outputs": [
    {
     "data": {
      "text/plain": [
       "3"
      ]
     },
     "execution_count": 15,
     "metadata": {},
     "output_type": "execute_result"
    }
   ],
   "source": [
    "len(b)"
   ]
  },
  {
   "cell_type": "code",
   "execution_count": 18,
   "id": "683fb207",
   "metadata": {},
   "outputs": [
    {
     "data": {
      "text/plain": [
       "648"
      ]
     },
     "execution_count": 18,
     "metadata": {},
     "output_type": "execute_result"
    }
   ],
   "source": [
    "len(data)"
   ]
  },
  {
   "cell_type": "code",
   "execution_count": 17,
   "id": "e37af916",
   "metadata": {},
   "outputs": [],
   "source": [
    "from nltk.tokenize import word_tokenize"
   ]
  },
  {
   "cell_type": "code",
   "execution_count": 19,
   "id": "91f420fe",
   "metadata": {},
   "outputs": [],
   "source": [
    "tokens=word_tokenize(data)"
   ]
  },
  {
   "cell_type": "code",
   "execution_count": 20,
   "id": "947d43ef",
   "metadata": {},
   "outputs": [
    {
     "data": {
      "text/plain": [
       "['Cows',\n",
       " 'are',\n",
       " 'considered',\n",
       " 'to',\n",
       " 'be',\n",
       " 'a',\n",
       " 'sacred',\n",
       " 'animal',\n",
       " 'in',\n",
       " 'the',\n",
       " 'Hindu',\n",
       " 'religion',\n",
       " '.',\n",
       " 'The',\n",
       " 'ardent',\n",
       " 'followers',\n",
       " 'of',\n",
       " 'religion',\n",
       " 'worship',\n",
       " 'this',\n",
       " 'animal',\n",
       " 'like',\n",
       " 'a',\n",
       " 'Goddess',\n",
       " '.',\n",
       " 'A',\n",
       " 'cow',\n",
       " 'has',\n",
       " 'been',\n",
       " 'honored',\n",
       " 'with',\n",
       " 'the',\n",
       " 'status',\n",
       " 'of',\n",
       " 'a',\n",
       " 'mother',\n",
       " 'in',\n",
       " 'Hinduism',\n",
       " '.',\n",
       " 'This',\n",
       " 'is',\n",
       " 'why',\n",
       " 'people',\n",
       " 'refer',\n",
       " 'to',\n",
       " 'it',\n",
       " 'as',\n",
       " '‘',\n",
       " 'Gau',\n",
       " 'Mata',\n",
       " '’',\n",
       " 'which',\n",
       " 'translates',\n",
       " 'to',\n",
       " 'Mother',\n",
       " 'Cow',\n",
       " '.',\n",
       " 'Many',\n",
       " 'followers',\n",
       " 'of',\n",
       " 'religion',\n",
       " 'consider',\n",
       " 'it',\n",
       " 'a',\n",
       " 'sin',\n",
       " 'to',\n",
       " 'kill',\n",
       " 'cows',\n",
       " '.',\n",
       " 'Nowadays',\n",
       " ',',\n",
       " 'India',\n",
       " 'has',\n",
       " 'a',\n",
       " 'lot',\n",
       " 'of',\n",
       " 'organizations',\n",
       " 'with',\n",
       " 'the',\n",
       " 'sole',\n",
       " 'purpose',\n",
       " 'of',\n",
       " 'protecting',\n",
       " 'cows',\n",
       " '.',\n",
       " 'They',\n",
       " 'work',\n",
       " 'to',\n",
       " 'help',\n",
       " 'cows',\n",
       " 'from',\n",
       " 'any',\n",
       " 'danger',\n",
       " '.',\n",
       " 'They',\n",
       " 'do',\n",
       " 'not',\n",
       " 'tolerate',\n",
       " 'any',\n",
       " 'kind',\n",
       " 'of',\n",
       " 'harm',\n",
       " 'to',\n",
       " 'cows',\n",
       " '.',\n",
       " 'The',\n",
       " 'government',\n",
       " 'is',\n",
       " 'also',\n",
       " 'taking',\n",
       " 'a',\n",
       " 'lot',\n",
       " 'of',\n",
       " 'measures',\n",
       " 'to',\n",
       " 'protect',\n",
       " 'cows',\n",
       " 'from',\n",
       " 'any',\n",
       " 'injustice',\n",
       " '.',\n",
       " 'People',\n",
       " 'are',\n",
       " 'coming',\n",
       " 'forward',\n",
       " 'in',\n",
       " 'alliance',\n",
       " 'to',\n",
       " 'safeguard',\n",
       " 'them',\n",
       " '.']"
      ]
     },
     "execution_count": 20,
     "metadata": {},
     "output_type": "execute_result"
    }
   ],
   "source": [
    "tokens"
   ]
  },
  {
   "cell_type": "code",
   "execution_count": 21,
   "id": "07ef7030",
   "metadata": {},
   "outputs": [
    {
     "name": "stdout",
     "output_type": "stream",
     "text": [
      "['Cows', 'are', 'considered', 'to', 'be', 'a', 'sacred', 'animal', 'in', 'the', 'Hindu', 'religion', '.', 'The', 'ardent', 'followers', 'of', 'religion', 'worship', 'this', 'animal', 'like', 'a', 'Goddess', '.', 'A', 'cow', 'has', 'been', 'honored', 'with', 'the', 'status', 'of', 'a', 'mother', 'in', 'Hinduism', '.', 'This', 'is', 'why', 'people', 'refer', 'to', 'it', 'as', '‘', 'Gau', 'Mata', '’', 'which', 'translates', 'to', 'Mother', 'Cow', '.', 'Many', 'followers', 'of', 'religion', 'consider', 'it', 'a', 'sin', 'to', 'kill', 'cows', '.', 'Nowadays', ',', 'India', 'has', 'a', 'lot', 'of', 'organizations', 'with', 'the', 'sole', 'purpose', 'of', 'protecting', 'cows', '.', 'They', 'work', 'to', 'help', 'cows', 'from', 'any', 'danger', '.', 'They', 'do', 'not', 'tolerate', 'any', 'kind', 'of', 'harm', 'to', 'cows', '.', 'The', 'government', 'is', 'also', 'taking', 'a', 'lot', 'of', 'measures', 'to', 'protect', 'cows', 'from', 'any', 'injustice', '.', 'People', 'are', 'coming', 'forward', 'in', 'alliance', 'to', 'safeguard', 'them', '.']\n"
     ]
    }
   ],
   "source": [
    "print(tokens)"
   ]
  },
  {
   "cell_type": "code",
   "execution_count": 22,
   "id": "ff3115e8",
   "metadata": {},
   "outputs": [],
   "source": [
    "from nltk.corpus import stopwords"
   ]
  },
  {
   "cell_type": "code",
   "execution_count": 23,
   "id": "b466acee",
   "metadata": {},
   "outputs": [
    {
     "name": "stderr",
     "output_type": "stream",
     "text": [
      "[nltk_data] Downloading package stopwords to\n",
      "[nltk_data]     C:\\Users\\hetvi\\AppData\\Roaming\\nltk_data...\n",
      "[nltk_data]   Unzipping corpora\\stopwords.zip.\n"
     ]
    },
    {
     "data": {
      "text/plain": [
       "True"
      ]
     },
     "execution_count": 23,
     "metadata": {},
     "output_type": "execute_result"
    }
   ],
   "source": [
    "nltk.download(\"stopwords\")"
   ]
  },
  {
   "cell_type": "code",
   "execution_count": 24,
   "id": "5339ff3c",
   "metadata": {},
   "outputs": [
    {
     "name": "stdout",
     "output_type": "stream",
     "text": [
      "['i', 'me', 'my', 'myself', 'we', 'our', 'ours', 'ourselves', 'you', \"you're\", \"you've\", \"you'll\", \"you'd\", 'your', 'yours', 'yourself', 'yourselves', 'he', 'him', 'his', 'himself', 'she', \"she's\", 'her', 'hers', 'herself', 'it', \"it's\", 'its', 'itself', 'they', 'them', 'their', 'theirs', 'themselves', 'what', 'which', 'who', 'whom', 'this', 'that', \"that'll\", 'these', 'those', 'am', 'is', 'are', 'was', 'were', 'be', 'been', 'being', 'have', 'has', 'had', 'having', 'do', 'does', 'did', 'doing', 'a', 'an', 'the', 'and', 'but', 'if', 'or', 'because', 'as', 'until', 'while', 'of', 'at', 'by', 'for', 'with', 'about', 'against', 'between', 'into', 'through', 'during', 'before', 'after', 'above', 'below', 'to', 'from', 'up', 'down', 'in', 'out', 'on', 'off', 'over', 'under', 'again', 'further', 'then', 'once', 'here', 'there', 'when', 'where', 'why', 'how', 'all', 'any', 'both', 'each', 'few', 'more', 'most', 'other', 'some', 'such', 'no', 'nor', 'not', 'only', 'own', 'same', 'so', 'than', 'too', 'very', 's', 't', 'can', 'will', 'just', 'don', \"don't\", 'should', \"should've\", 'now', 'd', 'll', 'm', 'o', 're', 've', 'y', 'ain', 'aren', \"aren't\", 'couldn', \"couldn't\", 'didn', \"didn't\", 'doesn', \"doesn't\", 'hadn', \"hadn't\", 'hasn', \"hasn't\", 'haven', \"haven't\", 'isn', \"isn't\", 'ma', 'mightn', \"mightn't\", 'mustn', \"mustn't\", 'needn', \"needn't\", 'shan', \"shan't\", 'shouldn', \"shouldn't\", 'wasn', \"wasn't\", 'weren', \"weren't\", 'won', \"won't\", 'wouldn', \"wouldn't\"]\n"
     ]
    }
   ],
   "source": [
    "print(stopwords.words(\"english\"))"
   ]
  },
  {
   "cell_type": "code",
   "execution_count": 25,
   "id": "36937935",
   "metadata": {},
   "outputs": [],
   "source": [
    "def remove_stopwords(data):\n",
    "    stop_word=set(stopwords.words(\"english\"))\n",
    "    tokens=word_tokenize(data)\n",
    "    f=[t for t in tokens if t.lower() not in stop_word]\n",
    "    fs=\" \".join(f)\n",
    "    return fs"
   ]
  },
  {
   "cell_type": "code",
   "execution_count": 26,
   "id": "87a3b6ca",
   "metadata": {},
   "outputs": [],
   "source": [
    "fs=remove_stopwords(data)"
   ]
  },
  {
   "cell_type": "code",
   "execution_count": 27,
   "id": "709c53bd",
   "metadata": {},
   "outputs": [
    {
     "data": {
      "text/plain": [
       "'Cows considered sacred animal Hindu religion . ardent followers religion worship animal like Goddess . cow honored status mother Hinduism . people refer ‘ Gau Mata ’ translates Mother Cow . Many followers religion consider sin kill cows . Nowadays , India lot organizations sole purpose protecting cows . work help cows danger . tolerate kind harm cows . government also taking lot measures protect cows injustice . People coming forward alliance safeguard .'"
      ]
     },
     "execution_count": 27,
     "metadata": {},
     "output_type": "execute_result"
    }
   ],
   "source": [
    "fs"
   ]
  },
  {
   "cell_type": "code",
   "execution_count": 28,
   "id": "316996f2",
   "metadata": {},
   "outputs": [],
   "source": [
    "from nltk.stem import PorterStemmer"
   ]
  },
  {
   "cell_type": "code",
   "execution_count": 29,
   "id": "ecb0b3b6",
   "metadata": {},
   "outputs": [
    {
     "name": "stdout",
     "output_type": "stream",
     "text": [
      "Cows==cow\n",
      "are==are\n",
      "considered==consid\n",
      "to==to\n",
      "be==be\n",
      "a==a\n",
      "sacred==sacr\n",
      "animal==anim\n",
      "in==in\n",
      "the==the\n",
      "Hindu==hindu\n",
      "religion==religion\n",
      ".==.\n",
      "The==the\n",
      "ardent==ardent\n",
      "followers==follow\n",
      "of==of\n",
      "religion==religion\n",
      "worship==worship\n",
      "this==thi\n",
      "animal==anim\n",
      "like==like\n",
      "a==a\n",
      "Goddess==goddess\n",
      ".==.\n",
      "A==a\n",
      "cow==cow\n",
      "has==ha\n",
      "been==been\n",
      "honored==honor\n",
      "with==with\n",
      "the==the\n",
      "status==statu\n",
      "of==of\n",
      "a==a\n",
      "mother==mother\n",
      "in==in\n",
      "Hinduism==hinduism\n",
      ".==.\n",
      "This==thi\n",
      "is==is\n",
      "why==whi\n",
      "people==peopl\n",
      "refer==refer\n",
      "to==to\n",
      "it==it\n",
      "as==as\n",
      "‘==‘\n",
      "Gau==gau\n",
      "Mata==mata\n",
      "’==’\n",
      "which==which\n",
      "translates==translat\n",
      "to==to\n",
      "Mother==mother\n",
      "Cow==cow\n",
      ".==.\n",
      "Many==mani\n",
      "followers==follow\n",
      "of==of\n",
      "religion==religion\n",
      "consider==consid\n",
      "it==it\n",
      "a==a\n",
      "sin==sin\n",
      "to==to\n",
      "kill==kill\n",
      "cows==cow\n",
      ".==.\n",
      "Nowadays==nowaday\n",
      ",==,\n",
      "India==india\n",
      "has==ha\n",
      "a==a\n",
      "lot==lot\n",
      "of==of\n",
      "organizations==organ\n",
      "with==with\n",
      "the==the\n",
      "sole==sole\n",
      "purpose==purpos\n",
      "of==of\n",
      "protecting==protect\n",
      "cows==cow\n",
      ".==.\n",
      "They==they\n",
      "work==work\n",
      "to==to\n",
      "help==help\n",
      "cows==cow\n",
      "from==from\n",
      "any==ani\n",
      "danger==danger\n",
      ".==.\n",
      "They==they\n",
      "do==do\n",
      "not==not\n",
      "tolerate==toler\n",
      "any==ani\n",
      "kind==kind\n",
      "of==of\n",
      "harm==harm\n",
      "to==to\n",
      "cows==cow\n",
      ".==.\n",
      "The==the\n",
      "government==govern\n",
      "is==is\n",
      "also==also\n",
      "taking==take\n",
      "a==a\n",
      "lot==lot\n",
      "of==of\n",
      "measures==measur\n",
      "to==to\n",
      "protect==protect\n",
      "cows==cow\n",
      "from==from\n",
      "any==ani\n",
      "injustice==injustic\n",
      ".==.\n",
      "People==peopl\n",
      "are==are\n",
      "coming==come\n",
      "forward==forward\n",
      "in==in\n",
      "alliance==allianc\n",
      "to==to\n",
      "safeguard==safeguard\n",
      "them==them\n",
      ".==.\n"
     ]
    }
   ],
   "source": [
    "p=PorterStemmer()\n",
    "for i in tokens:\n",
    "    print(i+\"==\"+p.stem(i))"
   ]
  },
  {
   "cell_type": "code",
   "execution_count": 30,
   "id": "944c101c",
   "metadata": {},
   "outputs": [],
   "source": [
    "from nltk.stem import WordNetLemmatizer"
   ]
  },
  {
   "cell_type": "code",
   "execution_count": 31,
   "id": "38b63115",
   "metadata": {},
   "outputs": [
    {
     "name": "stderr",
     "output_type": "stream",
     "text": [
      "[nltk_data] Downloading package wordnet to\n",
      "[nltk_data]     C:\\Users\\hetvi\\AppData\\Roaming\\nltk_data...\n",
      "[nltk_data]   Package wordnet is already up-to-date!\n"
     ]
    },
    {
     "data": {
      "text/plain": [
       "True"
      ]
     },
     "execution_count": 31,
     "metadata": {},
     "output_type": "execute_result"
    }
   ],
   "source": [
    "nltk.download('wordnet')"
   ]
  },
  {
   "cell_type": "code",
   "execution_count": 33,
   "id": "db8472cd",
   "metadata": {},
   "outputs": [
    {
     "name": "stderr",
     "output_type": "stream",
     "text": [
      "[nltk_data] Downloading package omw-1.4 to\n",
      "[nltk_data]     C:\\Users\\hetvi\\AppData\\Roaming\\nltk_data...\n"
     ]
    },
    {
     "data": {
      "text/plain": [
       "'Cows are considered to be a sacred animal in the Hindu religion. The ardent followers of religion worship this animal like a Goddess. A cow has been honored with the status of a mother in Hinduism. This is why people refer to it as ‘Gau Mata’ which translates to Mother Cow.\\n\\nMany followers of religion consider it a sin to kill cows. Nowadays, India has a lot of organizations with the sole purpose of protecting cows. They work to help cows from any danger. They do not tolerate any kind of harm to cows.\\n\\nThe government is also taking a lot of measures to protect cows from any injustice. People are coming forward in alliance to safeguard them.'"
      ]
     },
     "execution_count": 33,
     "metadata": {},
     "output_type": "execute_result"
    }
   ],
   "source": [
    "nltk.download('omw-1.4')\n",
    "  \n",
    "w=WordNetLemmatizer()\n",
    "w.lemmatize(data)"
   ]
  },
  {
   "cell_type": "code",
   "execution_count": null,
   "id": "34f8957d",
   "metadata": {},
   "outputs": [],
   "source": []
  }
 ],
 "metadata": {
  "kernelspec": {
   "display_name": "Python 3 (ipykernel)",
   "language": "python",
   "name": "python3"
  },
  "language_info": {
   "codemirror_mode": {
    "name": "ipython",
    "version": 3
   },
   "file_extension": ".py",
   "mimetype": "text/x-python",
   "name": "python",
   "nbconvert_exporter": "python",
   "pygments_lexer": "ipython3",
   "version": "3.11.3"
  }
 },
 "nbformat": 4,
 "nbformat_minor": 5
}

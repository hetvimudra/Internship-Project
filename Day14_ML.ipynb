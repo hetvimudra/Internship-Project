{
 "cells": [
  {
   "cell_type": "code",
   "execution_count": 1,
   "id": "dbd62ad7",
   "metadata": {},
   "outputs": [],
   "source": [
    "import numpy as np\n",
    "import pandas as pd"
   ]
  },
  {
   "cell_type": "code",
   "execution_count": 2,
   "id": "8804c34a",
   "metadata": {},
   "outputs": [],
   "source": [
    "df=pd.read_csv('sales.csv')"
   ]
  },
  {
   "cell_type": "code",
   "execution_count": 3,
   "id": "889747c7",
   "metadata": {},
   "outputs": [
    {
     "data": {
      "text/html": [
       "<div>\n",
       "<style scoped>\n",
       "    .dataframe tbody tr th:only-of-type {\n",
       "        vertical-align: middle;\n",
       "    }\n",
       "\n",
       "    .dataframe tbody tr th {\n",
       "        vertical-align: top;\n",
       "    }\n",
       "\n",
       "    .dataframe thead th {\n",
       "        text-align: right;\n",
       "    }\n",
       "</style>\n",
       "<table border=\"1\" class=\"dataframe\">\n",
       "  <thead>\n",
       "    <tr style=\"text-align: right;\">\n",
       "      <th></th>\n",
       "      <th>Region</th>\n",
       "      <th>Country</th>\n",
       "      <th>Item_Type</th>\n",
       "      <th>Sales_Channel</th>\n",
       "      <th>Order_Priority</th>\n",
       "      <th>Ship_Date</th>\n",
       "      <th>Unit_Cost</th>\n",
       "      <th>Total_Revenue</th>\n",
       "      <th>Total_Profit</th>\n",
       "      <th>Unnamed: 9</th>\n",
       "      <th>Unnamed: 10</th>\n",
       "    </tr>\n",
       "  </thead>\n",
       "  <tbody>\n",
       "    <tr>\n",
       "      <th>0</th>\n",
       "      <td>Australia and Oceania</td>\n",
       "      <td>Tuvalu</td>\n",
       "      <td>Baby Food</td>\n",
       "      <td>Offline</td>\n",
       "      <td>H</td>\n",
       "      <td>27-06-10</td>\n",
       "      <td>159.42</td>\n",
       "      <td>2533654.00</td>\n",
       "      <td>951410.50</td>\n",
       "      <td>NaN</td>\n",
       "      <td>NaN</td>\n",
       "    </tr>\n",
       "    <tr>\n",
       "      <th>1</th>\n",
       "      <td>Central America and the Caribbean</td>\n",
       "      <td>Grenada</td>\n",
       "      <td>Cereal</td>\n",
       "      <td>Online</td>\n",
       "      <td>C</td>\n",
       "      <td>15-09-12</td>\n",
       "      <td>117.11</td>\n",
       "      <td>576782.80</td>\n",
       "      <td>248406.36</td>\n",
       "      <td>NaN</td>\n",
       "      <td>NaN</td>\n",
       "    </tr>\n",
       "    <tr>\n",
       "      <th>2</th>\n",
       "      <td>Europe</td>\n",
       "      <td>Russia</td>\n",
       "      <td>Office Supplies</td>\n",
       "      <td>Offline</td>\n",
       "      <td>L</td>\n",
       "      <td>05-08-14</td>\n",
       "      <td>524.96</td>\n",
       "      <td>1158502.59</td>\n",
       "      <td>224598.75</td>\n",
       "      <td>NaN</td>\n",
       "      <td>NaN</td>\n",
       "    </tr>\n",
       "    <tr>\n",
       "      <th>3</th>\n",
       "      <td>Sub_Saharan Africa</td>\n",
       "      <td>Sao Tome and Principe</td>\n",
       "      <td>Fruits</td>\n",
       "      <td>Online</td>\n",
       "      <td>C</td>\n",
       "      <td>07-05-14</td>\n",
       "      <td>6.92</td>\n",
       "      <td>75591.66</td>\n",
       "      <td>19525.82</td>\n",
       "      <td>NaN</td>\n",
       "      <td>NaN</td>\n",
       "    </tr>\n",
       "    <tr>\n",
       "      <th>4</th>\n",
       "      <td>Sub_Saharan Africa</td>\n",
       "      <td>Rwanda</td>\n",
       "      <td>Office Supplies</td>\n",
       "      <td>Offline</td>\n",
       "      <td>L</td>\n",
       "      <td>02-06-13</td>\n",
       "      <td>524.96</td>\n",
       "      <td>3296425.02</td>\n",
       "      <td>639077.50</td>\n",
       "      <td>NaN</td>\n",
       "      <td>NaN</td>\n",
       "    </tr>\n",
       "    <tr>\n",
       "      <th>...</th>\n",
       "      <td>...</td>\n",
       "      <td>...</td>\n",
       "      <td>...</td>\n",
       "      <td>...</td>\n",
       "      <td>...</td>\n",
       "      <td>...</td>\n",
       "      <td>...</td>\n",
       "      <td>...</td>\n",
       "      <td>...</td>\n",
       "      <td>...</td>\n",
       "      <td>...</td>\n",
       "    </tr>\n",
       "    <tr>\n",
       "      <th>95</th>\n",
       "      <td>Sub_Saharan Africa</td>\n",
       "      <td>Mali</td>\n",
       "      <td>Clothes</td>\n",
       "      <td>Online</td>\n",
       "      <td>M</td>\n",
       "      <td>09-03-11</td>\n",
       "      <td>35.84</td>\n",
       "      <td>97040.64</td>\n",
       "      <td>65214.72</td>\n",
       "      <td>NaN</td>\n",
       "      <td>NaN</td>\n",
       "    </tr>\n",
       "    <tr>\n",
       "      <th>96</th>\n",
       "      <td>Asia</td>\n",
       "      <td>Malaysia</td>\n",
       "      <td>Fruits</td>\n",
       "      <td>Offline</td>\n",
       "      <td>L</td>\n",
       "      <td>28-12-11</td>\n",
       "      <td>6.92</td>\n",
       "      <td>58471.11</td>\n",
       "      <td>15103.47</td>\n",
       "      <td>NaN</td>\n",
       "      <td>NaN</td>\n",
       "    </tr>\n",
       "    <tr>\n",
       "      <th>97</th>\n",
       "      <td>Sub_Saharan Africa</td>\n",
       "      <td>Sierra Leone</td>\n",
       "      <td>Vegetables</td>\n",
       "      <td>Offline</td>\n",
       "      <td>C</td>\n",
       "      <td>29-06-16</td>\n",
       "      <td>90.93</td>\n",
       "      <td>228779.10</td>\n",
       "      <td>93748.05</td>\n",
       "      <td>NaN</td>\n",
       "      <td>NaN</td>\n",
       "    </tr>\n",
       "    <tr>\n",
       "      <th>98</th>\n",
       "      <td>North America</td>\n",
       "      <td>Mexico</td>\n",
       "      <td>Personal Care</td>\n",
       "      <td>Offline</td>\n",
       "      <td>M</td>\n",
       "      <td>08-08-15</td>\n",
       "      <td>56.67</td>\n",
       "      <td>471336.91</td>\n",
       "      <td>144521.02</td>\n",
       "      <td>NaN</td>\n",
       "      <td>NaN</td>\n",
       "    </tr>\n",
       "    <tr>\n",
       "      <th>99</th>\n",
       "      <td>Sub_Saharan Africa</td>\n",
       "      <td>Mozambique</td>\n",
       "      <td>Household</td>\n",
       "      <td>Offline</td>\n",
       "      <td>L</td>\n",
       "      <td>15-02-12</td>\n",
       "      <td>502.54</td>\n",
       "      <td>3586605.09</td>\n",
       "      <td>889472.91</td>\n",
       "      <td>NaN</td>\n",
       "      <td>NaN</td>\n",
       "    </tr>\n",
       "  </tbody>\n",
       "</table>\n",
       "<p>100 rows × 11 columns</p>\n",
       "</div>"
      ],
      "text/plain": [
       "                               Region                Country        Item_Type  \\\n",
       "0               Australia and Oceania                 Tuvalu        Baby Food   \n",
       "1   Central America and the Caribbean                Grenada           Cereal   \n",
       "2                              Europe                 Russia  Office Supplies   \n",
       "3                  Sub_Saharan Africa  Sao Tome and Principe           Fruits   \n",
       "4                  Sub_Saharan Africa                 Rwanda  Office Supplies   \n",
       "..                                ...                    ...              ...   \n",
       "95                 Sub_Saharan Africa                   Mali          Clothes   \n",
       "96                               Asia               Malaysia           Fruits   \n",
       "97                 Sub_Saharan Africa           Sierra Leone       Vegetables   \n",
       "98                      North America                 Mexico    Personal Care   \n",
       "99                 Sub_Saharan Africa             Mozambique        Household   \n",
       "\n",
       "   Sales_Channel Order_Priority Ship_Date  Unit_Cost  Total_Revenue  \\\n",
       "0        Offline              H  27-06-10     159.42     2533654.00   \n",
       "1         Online              C  15-09-12     117.11      576782.80   \n",
       "2        Offline              L  05-08-14     524.96     1158502.59   \n",
       "3         Online              C  07-05-14       6.92       75591.66   \n",
       "4        Offline              L  02-06-13     524.96     3296425.02   \n",
       "..           ...            ...       ...        ...            ...   \n",
       "95        Online              M  09-03-11      35.84       97040.64   \n",
       "96       Offline              L  28-12-11       6.92       58471.11   \n",
       "97       Offline              C  29-06-16      90.93      228779.10   \n",
       "98       Offline              M  08-08-15      56.67      471336.91   \n",
       "99       Offline              L  15-02-12     502.54     3586605.09   \n",
       "\n",
       "    Total_Profit  Unnamed: 9  Unnamed: 10  \n",
       "0      951410.50         NaN          NaN  \n",
       "1      248406.36         NaN          NaN  \n",
       "2      224598.75         NaN          NaN  \n",
       "3       19525.82         NaN          NaN  \n",
       "4      639077.50         NaN          NaN  \n",
       "..           ...         ...          ...  \n",
       "95      65214.72         NaN          NaN  \n",
       "96      15103.47         NaN          NaN  \n",
       "97      93748.05         NaN          NaN  \n",
       "98     144521.02         NaN          NaN  \n",
       "99     889472.91         NaN          NaN  \n",
       "\n",
       "[100 rows x 11 columns]"
      ]
     },
     "execution_count": 3,
     "metadata": {},
     "output_type": "execute_result"
    }
   ],
   "source": [
    "df"
   ]
  },
  {
   "cell_type": "code",
   "execution_count": 4,
   "id": "e1092643",
   "metadata": {},
   "outputs": [
    {
     "data": {
      "text/plain": [
       "array([[2.53365400e+06],\n",
       "       [5.76782800e+05],\n",
       "       [1.15850259e+06],\n",
       "       [7.55916600e+04],\n",
       "       [3.29642502e+06],\n",
       "       [7.59202720e+05],\n",
       "       [2.79804649e+06],\n",
       "       [1.24511292e+06],\n",
       "       [4.96101100e+05],\n",
       "       [1.35618010e+06],\n",
       "       [1.91034400e+04],\n",
       "       [4.55479040e+05],\n",
       "       [9.02980640e+05],\n",
       "       [5.99705498e+06],\n",
       "       [4.00558730e+05],\n",
       "       [1.82825440e+05],\n",
       "       [3.03941440e+06],\n",
       "       [2.57653500e+05],\n",
       "       [2.55947410e+06],\n",
       "       [2.49252612e+06],\n",
       "       [1.90183600e+06],\n",
       "       [3.24971440e+05],\n",
       "       [3.39490500e+05],\n",
       "       [2.04047100e+04],\n",
       "       [4.14371100e+05],\n",
       "       [7.93518000e+05],\n",
       "       [5.03633400e+04],\n",
       "       [5.43192600e+04],\n",
       "       [2.43133800e+05],\n",
       "       [1.58379990e+06],\n",
       "       [3.78658920e+06],\n",
       "       [1.73676250e+05],\n",
       "       [1.90413804e+06],\n",
       "       [5.51322750e+06],\n",
       "       [1.11795366e+06],\n",
       "       [5.23807570e+05],\n",
       "       [3.53047200e+04],\n",
       "       [2.01114963e+06],\n",
       "       [4.36831668e+06],\n",
       "       [2.59637427e+06],\n",
       "       [2.46415950e+05],\n",
       "       [3.16270480e+06],\n",
       "       [4.35466900e+05],\n",
       "       [2.63442600e+04],\n",
       "       [6.48030400e+05],\n",
       "       [1.97883400e+05],\n",
       "       [3.87665240e+06],\n",
       "       [2.23122900e+04],\n",
       "       [8.56973760e+05],\n",
       "       [8.24431860e+05],\n",
       "       [2.47956320e+05],\n",
       "       [8.96239800e+04],\n",
       "       [8.35759100e+05],\n",
       "       [2.25123297e+06],\n",
       "       [7.12532100e+04],\n",
       "       [3.80512960e+05],\n",
       "       [1.08241840e+06],\n",
       "       [1.24470840e+06],\n",
       "       [1.88452140e+05],\n",
       "       [3.15439800e+06],\n",
       "       [1.40287400e+05],\n",
       "       [1.21258000e+06],\n",
       "       [3.59337678e+06],\n",
       "       [6.68356480e+05],\n",
       "       [7.45426000e+05],\n",
       "       [1.95734440e+06],\n",
       "       [7.07454880e+05],\n",
       "       [6.00821440e+05],\n",
       "       [5.39657727e+06],\n",
       "       [8.02333760e+05],\n",
       "       [3.26256210e+06],\n",
       "       [6.27909000e+03],\n",
       "       [2.72410450e+05],\n",
       "       [1.78053920e+06],\n",
       "       [4.32478240e+06],\n",
       "       [4.64714958e+06],\n",
       "       [4.45033550e+05],\n",
       "       [5.74951920e+05],\n",
       "       [2.19898192e+06],\n",
       "       [4.22072880e+06],\n",
       "       [3.01590251e+06],\n",
       "       [8.61563520e+05],\n",
       "       [2.83699080e+06],\n",
       "       [6.23289300e+05],\n",
       "       [9.94765420e+05],\n",
       "       [5.24870060e+05],\n",
       "       [4.18936050e+05],\n",
       "       [1.41910152e+06],\n",
       "       [4.87026000e+03],\n",
       "       [2.21117000e+05],\n",
       "       [6.17347080e+05],\n",
       "       [4.45508050e+05],\n",
       "       [1.31609541e+06],\n",
       "       [3.45825200e+06],\n",
       "       [3.87002200e+05],\n",
       "       [9.70406400e+04],\n",
       "       [5.84711100e+04],\n",
       "       [2.28779100e+05],\n",
       "       [4.71336910e+05],\n",
       "       [3.58660509e+06]])"
      ]
     },
     "execution_count": 4,
     "metadata": {},
     "output_type": "execute_result"
    }
   ],
   "source": [
    "x=np.array(df[\"Total_Revenue\"]).reshape(-1,1)\n",
    "y=np.array(df[\"Total_Profit\"]).reshape(-1,1)\n",
    "x"
   ]
  },
  {
   "cell_type": "code",
   "execution_count": 5,
   "id": "a7182063",
   "metadata": {},
   "outputs": [
    {
     "data": {
      "text/plain": [
       "array([[9.51410500e+05],\n",
       "       [2.48406360e+05],\n",
       "       [2.24598750e+05],\n",
       "       [1.95258200e+04],\n",
       "       [6.39077500e+05],\n",
       "       [2.85087640e+05],\n",
       "       [6.93911510e+05],\n",
       "       [5.10216660e+05],\n",
       "       [1.52114200e+05],\n",
       "       [5.84073870e+05],\n",
       "       [7.82812000e+03],\n",
       "       [3.06097920e+05],\n",
       "       [6.06834720e+05],\n",
       "       [1.48726102e+06],\n",
       "       [1.22819060e+05],\n",
       "       [1.22865120e+05],\n",
       "       [1.20874424e+06],\n",
       "       [8.50338000e+04],\n",
       "       [6.34745900e+05],\n",
       "       [3.37937600e+05],\n",
       "       [7.14157000e+05],\n",
       "       [1.22029780e+05],\n",
       "       [1.22686500e+05],\n",
       "       [5.27067000e+03],\n",
       "       [1.27054200e+05],\n",
       "       [3.15574050e+05],\n",
       "       [1.30091800e+04],\n",
       "       [1.40310200e+04],\n",
       "       [8.02418400e+04],\n",
       "       [3.92780100e+05],\n",
       "       [1.50588807e+06],\n",
       "       [5.32525000e+04],\n",
       "       [3.69155000e+05],\n",
       "       [1.36727250e+06],\n",
       "       [4.04010780e+05],\n",
       "       [1.60609540e+05],\n",
       "       [9.11944000e+03],\n",
       "       [2.72672400e+05],\n",
       "       [8.46885000e+05],\n",
       "       [5.03358750e+05],\n",
       "       [7.55559000e+04],\n",
       "       [1.25777558e+06],\n",
       "       [1.87545030e+05],\n",
       "       [1.07952300e+04],\n",
       "       [4.35499200e+05],\n",
       "       [8.52235800e+04],\n",
       "       [1.54170529e+06],\n",
       "       [6.84138000e+03],\n",
       "       [5.75916480e+05],\n",
       "       [1.59832500e+05],\n",
       "       [1.66635360e+05],\n",
       "       [2.31504600e+04],\n",
       "       [3.59941170e+05],\n",
       "       [4.36446250e+05],\n",
       "       [1.84051700e+04],\n",
       "       [2.55718080e+05],\n",
       "       [7.27423200e+05],\n",
       "       [4.95007890e+05],\n",
       "       [4.67358600e+04],\n",
       "       [1.25447205e+06],\n",
       "       [6.04183800e+04],\n",
       "       [4.55335000e+05],\n",
       "       [6.96647500e+05],\n",
       "       [4.49159040e+05],\n",
       "       [2.96448350e+05],\n",
       "       [7.78415990e+05],\n",
       "       [2.16919360e+05],\n",
       "       [4.03773120e+05],\n",
       "       [1.04623375e+06],\n",
       "       [5.39196480e+05],\n",
       "       [6.32512500e+05],\n",
       "       [1.62193000e+03],\n",
       "       [8.99040600e+04],\n",
       "       [7.66835040e+05],\n",
       "       [1.71992204e+06],\n",
       "       [1.15248642e+06],\n",
       "       [1.46875140e+05],\n",
       "       [2.35601160e+05],\n",
       "       [8.25738040e+05],\n",
       "       [1.67854098e+06],\n",
       "       [7.47939490e+05],\n",
       "       [5.79000960e+05],\n",
       "       [1.12824243e+06],\n",
       "       [2.25246900e+05],\n",
       "       [4.07630410e+05],\n",
       "       [1.60935320e+05],\n",
       "       [1.38262140e+05],\n",
       "       [5.32885740e+05],\n",
       "       [1.25802000e+03],\n",
       "       [7.29756000e+04],\n",
       "       [1.19685000e+05],\n",
       "       [1.47031740e+05],\n",
       "       [2.55151250e+05],\n",
       "       [1.37531170e+06],\n",
       "       [1.27722960e+05],\n",
       "       [6.52147200e+04],\n",
       "       [1.51034700e+04],\n",
       "       [9.37480500e+04],\n",
       "       [1.44521020e+05],\n",
       "       [8.89472910e+05]])"
      ]
     },
     "execution_count": 5,
     "metadata": {},
     "output_type": "execute_result"
    }
   ],
   "source": [
    "y"
   ]
  },
  {
   "cell_type": "code",
   "execution_count": 6,
   "id": "bbeabc82",
   "metadata": {},
   "outputs": [
    {
     "data": {
      "text/plain": [
       "2"
      ]
     },
     "execution_count": 6,
     "metadata": {},
     "output_type": "execute_result"
    }
   ],
   "source": [
    "x.ndim"
   ]
  },
  {
   "cell_type": "code",
   "execution_count": 7,
   "id": "27a3874b",
   "metadata": {},
   "outputs": [
    {
     "data": {
      "text/plain": [
       "1373487.6831"
      ]
     },
     "execution_count": 7,
     "metadata": {},
     "output_type": "execute_result"
    }
   ],
   "source": [
    "x_mean=x.mean()\n",
    "y_mean=y.mean()\n",
    "x_mean"
   ]
  },
  {
   "cell_type": "code",
   "execution_count": 8,
   "id": "37c499ff",
   "metadata": {},
   "outputs": [
    {
     "data": {
      "text/plain": [
       "441681.98399999994"
      ]
     },
     "execution_count": 8,
     "metadata": {},
     "output_type": "execute_result"
    }
   ],
   "source": [
    "y_mean"
   ]
  },
  {
   "cell_type": "code",
   "execution_count": 13,
   "id": "a51f084d",
   "metadata": {},
   "outputs": [],
   "source": [
    "# num=0\n",
    "# dim=0\n",
    "# for i in range(len(x)):\n",
    "#     num+=(x[i]-x_mean)*(y[i]-y_mean)\n",
    "#     dim+=(x[i]-x_mean)**2\n",
    "# coff=num/dim\n",
    "# intr=y_mean-(coff*x_mean)\n",
    "# print(\"Intercept value is \",float(intr))\n",
    "# print(\"coffi. value is \",float(coff))\n",
    "# m=coff\n",
    "# c=intr\n",
    "# y=m*11+c\n",
    "# z=m*951410.50+c\n",
    "# print(y)\n",
    "# print(z)"
   ]
  },
  {
   "cell_type": "code",
   "execution_count": 17,
   "id": "57814a4e",
   "metadata": {},
   "outputs": [],
   "source": [
    "from sklearn.linear_model import LinearRegression"
   ]
  },
  {
   "cell_type": "code",
   "execution_count": 18,
   "id": "1f6c2621",
   "metadata": {},
   "outputs": [],
   "source": [
    "model=LinearRegression()"
   ]
  },
  {
   "cell_type": "code",
   "execution_count": 19,
   "id": "9cbf9817",
   "metadata": {},
   "outputs": [
    {
     "data": {
      "text/html": [
       "<style>#sk-container-id-1 {color: black;background-color: white;}#sk-container-id-1 pre{padding: 0;}#sk-container-id-1 div.sk-toggleable {background-color: white;}#sk-container-id-1 label.sk-toggleable__label {cursor: pointer;display: block;width: 100%;margin-bottom: 0;padding: 0.3em;box-sizing: border-box;text-align: center;}#sk-container-id-1 label.sk-toggleable__label-arrow:before {content: \"▸\";float: left;margin-right: 0.25em;color: #696969;}#sk-container-id-1 label.sk-toggleable__label-arrow:hover:before {color: black;}#sk-container-id-1 div.sk-estimator:hover label.sk-toggleable__label-arrow:before {color: black;}#sk-container-id-1 div.sk-toggleable__content {max-height: 0;max-width: 0;overflow: hidden;text-align: left;background-color: #f0f8ff;}#sk-container-id-1 div.sk-toggleable__content pre {margin: 0.2em;color: black;border-radius: 0.25em;background-color: #f0f8ff;}#sk-container-id-1 input.sk-toggleable__control:checked~div.sk-toggleable__content {max-height: 200px;max-width: 100%;overflow: auto;}#sk-container-id-1 input.sk-toggleable__control:checked~label.sk-toggleable__label-arrow:before {content: \"▾\";}#sk-container-id-1 div.sk-estimator input.sk-toggleable__control:checked~label.sk-toggleable__label {background-color: #d4ebff;}#sk-container-id-1 div.sk-label input.sk-toggleable__control:checked~label.sk-toggleable__label {background-color: #d4ebff;}#sk-container-id-1 input.sk-hidden--visually {border: 0;clip: rect(1px 1px 1px 1px);clip: rect(1px, 1px, 1px, 1px);height: 1px;margin: -1px;overflow: hidden;padding: 0;position: absolute;width: 1px;}#sk-container-id-1 div.sk-estimator {font-family: monospace;background-color: #f0f8ff;border: 1px dotted black;border-radius: 0.25em;box-sizing: border-box;margin-bottom: 0.5em;}#sk-container-id-1 div.sk-estimator:hover {background-color: #d4ebff;}#sk-container-id-1 div.sk-parallel-item::after {content: \"\";width: 100%;border-bottom: 1px solid gray;flex-grow: 1;}#sk-container-id-1 div.sk-label:hover label.sk-toggleable__label {background-color: #d4ebff;}#sk-container-id-1 div.sk-serial::before {content: \"\";position: absolute;border-left: 1px solid gray;box-sizing: border-box;top: 0;bottom: 0;left: 50%;z-index: 0;}#sk-container-id-1 div.sk-serial {display: flex;flex-direction: column;align-items: center;background-color: white;padding-right: 0.2em;padding-left: 0.2em;position: relative;}#sk-container-id-1 div.sk-item {position: relative;z-index: 1;}#sk-container-id-1 div.sk-parallel {display: flex;align-items: stretch;justify-content: center;background-color: white;position: relative;}#sk-container-id-1 div.sk-item::before, #sk-container-id-1 div.sk-parallel-item::before {content: \"\";position: absolute;border-left: 1px solid gray;box-sizing: border-box;top: 0;bottom: 0;left: 50%;z-index: -1;}#sk-container-id-1 div.sk-parallel-item {display: flex;flex-direction: column;z-index: 1;position: relative;background-color: white;}#sk-container-id-1 div.sk-parallel-item:first-child::after {align-self: flex-end;width: 50%;}#sk-container-id-1 div.sk-parallel-item:last-child::after {align-self: flex-start;width: 50%;}#sk-container-id-1 div.sk-parallel-item:only-child::after {width: 0;}#sk-container-id-1 div.sk-dashed-wrapped {border: 1px dashed gray;margin: 0 0.4em 0.5em 0.4em;box-sizing: border-box;padding-bottom: 0.4em;background-color: white;}#sk-container-id-1 div.sk-label label {font-family: monospace;font-weight: bold;display: inline-block;line-height: 1.2em;}#sk-container-id-1 div.sk-label-container {text-align: center;}#sk-container-id-1 div.sk-container {/* jupyter's `normalize.less` sets `[hidden] { display: none; }` but bootstrap.min.css set `[hidden] { display: none !important; }` so we also need the `!important` here to be able to override the default hidden behavior on the sphinx rendered scikit-learn.org. See: https://github.com/scikit-learn/scikit-learn/issues/21755 */display: inline-block !important;position: relative;}#sk-container-id-1 div.sk-text-repr-fallback {display: none;}</style><div id=\"sk-container-id-1\" class=\"sk-top-container\"><div class=\"sk-text-repr-fallback\"><pre>LinearRegression()</pre><b>In a Jupyter environment, please rerun this cell to show the HTML representation or trust the notebook. <br />On GitHub, the HTML representation is unable to render, please try loading this page with nbviewer.org.</b></div><div class=\"sk-container\" hidden><div class=\"sk-item\"><div class=\"sk-estimator sk-toggleable\"><input class=\"sk-toggleable__control sk-hidden--visually\" id=\"sk-estimator-id-1\" type=\"checkbox\" checked><label for=\"sk-estimator-id-1\" class=\"sk-toggleable__label sk-toggleable__label-arrow\">LinearRegression</label><div class=\"sk-toggleable__content\"><pre>LinearRegression()</pre></div></div></div></div></div>"
      ],
      "text/plain": [
       "LinearRegression()"
      ]
     },
     "execution_count": 19,
     "metadata": {},
     "output_type": "execute_result"
    }
   ],
   "source": [
    "model.fit(x,y)"
   ]
  },
  {
   "cell_type": "code",
   "execution_count": 20,
   "id": "29718eeb",
   "metadata": {},
   "outputs": [
    {
     "data": {
      "text/plain": [
       "array([[ 71497.92952284],\n",
       "       [327922.18745098],\n",
       "       [ 71498.19904621]])"
      ]
     },
     "execution_count": 20,
     "metadata": {},
     "output_type": "execute_result"
    }
   ],
   "source": [
    "testing=np.array([11,951410,12]).reshape(-1,1)\n",
    "model.predict(testing)"
   ]
  },
  {
   "cell_type": "markdown",
   "id": "f5384815",
   "metadata": {},
   "source": [
    "# Mean Absolute Error"
   ]
  },
  {
   "cell_type": "code",
   "execution_count": 21,
   "id": "c6ca0932",
   "metadata": {},
   "outputs": [
    {
     "data": {
      "text/plain": [
       "array([[ 6],\n",
       "       [ 7],\n",
       "       [ 8],\n",
       "       [ 9],\n",
       "       [10]])"
      ]
     },
     "execution_count": 21,
     "metadata": {},
     "output_type": "execute_result"
    }
   ],
   "source": [
    "from sklearn.metrics import mean_absolute_error\n",
    "from sklearn.metrics import mean_squared_error\n",
    "x_test=np.array([[6],[7],[8],[9],[10]])\n",
    "y_test=np.array([[7],[9],[10],[11],[13]])\n",
    "x_test"
   ]
  },
  {
   "cell_type": "code",
   "execution_count": 22,
   "id": "af695827",
   "metadata": {},
   "outputs": [
    {
     "data": {
      "text/plain": [
       "array([[71496.58190603],\n",
       "       [71496.85142939],\n",
       "       [71497.12095276],\n",
       "       [71497.39047612],\n",
       "       [71497.65999948]])"
      ]
     },
     "execution_count": 22,
     "metadata": {},
     "output_type": "execute_result"
    }
   ],
   "source": [
    "y_pred=model.predict(x_test)\n",
    "y_pred"
   ]
  },
  {
   "cell_type": "code",
   "execution_count": 23,
   "id": "6cb2c439",
   "metadata": {},
   "outputs": [
    {
     "data": {
      "text/plain": [
       "array([[ 7],\n",
       "       [ 9],\n",
       "       [10],\n",
       "       [11],\n",
       "       [13]])"
      ]
     },
     "execution_count": 23,
     "metadata": {},
     "output_type": "execute_result"
    }
   ],
   "source": [
    "mse=mean_squared_error(y_test,y_pred)\n",
    "y_test"
   ]
  },
  {
   "cell_type": "code",
   "execution_count": 24,
   "id": "c5801a41",
   "metadata": {},
   "outputs": [
    {
     "data": {
      "text/plain": [
       "5110408464.749929"
      ]
     },
     "execution_count": 24,
     "metadata": {},
     "output_type": "execute_result"
    }
   ],
   "source": [
    "mse"
   ]
  },
  {
   "cell_type": "code",
   "execution_count": 25,
   "id": "1467f72a",
   "metadata": {},
   "outputs": [],
   "source": [
    "rmse=np.sqrt(mean_squared_error(y_test,y_pred))"
   ]
  },
  {
   "cell_type": "code",
   "execution_count": 26,
   "id": "a91c35c0",
   "metadata": {},
   "outputs": [
    {
     "data": {
      "text/plain": [
       "71487.12097119263"
      ]
     },
     "execution_count": 26,
     "metadata": {},
     "output_type": "execute_result"
    }
   ],
   "source": [
    "rmse"
   ]
  },
  {
   "cell_type": "code",
   "execution_count": 27,
   "id": "a3dbcc65",
   "metadata": {},
   "outputs": [
    {
     "data": {
      "text/plain": [
       "71487.12095275607"
      ]
     },
     "execution_count": 27,
     "metadata": {},
     "output_type": "execute_result"
    }
   ],
   "source": [
    "mean_absolute_error(y_test,y_pred)"
   ]
  },
  {
   "cell_type": "code",
   "execution_count": null,
   "id": "b53ad0c2",
   "metadata": {},
   "outputs": [],
   "source": []
  }
 ],
 "metadata": {
  "kernelspec": {
   "display_name": "Python 3 (ipykernel)",
   "language": "python",
   "name": "python3"
  },
  "language_info": {
   "codemirror_mode": {
    "name": "ipython",
    "version": 3
   },
   "file_extension": ".py",
   "mimetype": "text/x-python",
   "name": "python",
   "nbconvert_exporter": "python",
   "pygments_lexer": "ipython3",
   "version": "3.11.3"
  }
 },
 "nbformat": 4,
 "nbformat_minor": 5
}
